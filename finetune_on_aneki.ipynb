{
 "cells": [
  {
   "cell_type": "code",
   "execution_count": 1,
   "metadata": {},
   "outputs": [
    {
     "name": "stderr",
     "output_type": "stream",
     "text": [
      "/home/27a_sul@lab.graphicon.ru/miniconda3/envs/nlp/lib/python3.12/site-packages/tqdm/auto.py:21: TqdmWarning: IProgress not found. Please update jupyter and ipywidgets. See https://ipywidgets.readthedocs.io/en/stable/user_install.html\n",
      "  from .autonotebook import tqdm as notebook_tqdm\n"
     ]
    }
   ],
   "source": [
    "from transformers import GPT2LMHeadModel, GPT2Tokenizer, Trainer, TrainingArguments, TextDataset, DataCollatorForLanguageModeling, pipeline\n",
    "import os\n",
    "\n",
    "os.environ[\"CUDA_VISIBLE_DEVICES\"] = '1'"
   ]
  },
  {
   "cell_type": "code",
   "execution_count": 2,
   "metadata": {},
   "outputs": [
    {
     "data": {
      "text/plain": [
       "Embedding(50260, 1280)"
      ]
     },
     "execution_count": 2,
     "metadata": {},
     "output_type": "execute_result"
    }
   ],
   "source": [
    "model_name = \"ai-forever/rugpt2large\"\n",
    "model = GPT2LMHeadModel.from_pretrained(model_name)\n",
    "tokenizer = GPT2Tokenizer.from_pretrained(model_name)\n",
    "\n",
    "tokenizer.add_special_tokens({'pad_token': '<|pad|>', 'bos_token': '<|startoftext|>', 'eos_token': '<|endoftext|>'})\n",
    "model.resize_token_embeddings(len(tokenizer))"
   ]
  },
  {
   "cell_type": "code",
   "execution_count": null,
   "metadata": {},
   "outputs": [],
   "source": [
    "!gdown 18oCseBD3UpD2ode0TQqMHlcLMULNa1cZ"
   ]
  },
  {
   "cell_type": "code",
   "execution_count": 21,
   "metadata": {},
   "outputs": [],
   "source": [
    "def load_dataset(file_path, tokenizer, block_size=256):\n",
    "    dataset = TextDataset(\n",
    "        tokenizer=tokenizer,\n",
    "        file_path=file_path,\n",
    "        block_size=block_size\n",
    "    )\n",
    "    return dataset\n",
    "\n",
    "data_collator = DataCollatorForLanguageModeling(\n",
    "    tokenizer=tokenizer,\n",
    "    mlm=False\n",
    ")\n",
    "\n",
    "file_path = \"aneki.txt\"\n",
    "train_dataset = load_dataset(file_path, tokenizer)"
   ]
  },
  {
   "cell_type": "code",
   "execution_count": 22,
   "metadata": {},
   "outputs": [
    {
     "data": {
      "text/html": [
       "\n",
       "    <div>\n",
       "      \n",
       "      <progress value='930' max='930' style='width:300px; height:20px; vertical-align: middle;'></progress>\n",
       "      [930/930 30:30, Epoch 2/3]\n",
       "    </div>\n",
       "    <table border=\"1\" class=\"dataframe\">\n",
       "  <thead>\n",
       " <tr style=\"text-align: left;\">\n",
       "      <th>Step</th>\n",
       "      <th>Training Loss</th>\n",
       "    </tr>\n",
       "  </thead>\n",
       "  <tbody>\n",
       "    <tr>\n",
       "      <td>100</td>\n",
       "      <td>3.813700</td>\n",
       "    </tr>\n",
       "    <tr>\n",
       "      <td>200</td>\n",
       "      <td>2.999400</td>\n",
       "    </tr>\n",
       "    <tr>\n",
       "      <td>300</td>\n",
       "      <td>2.937600</td>\n",
       "    </tr>\n",
       "    <tr>\n",
       "      <td>400</td>\n",
       "      <td>2.835700</td>\n",
       "    </tr>\n",
       "    <tr>\n",
       "      <td>500</td>\n",
       "      <td>2.806000</td>\n",
       "    </tr>\n",
       "    <tr>\n",
       "      <td>600</td>\n",
       "      <td>2.804700</td>\n",
       "    </tr>\n",
       "    <tr>\n",
       "      <td>700</td>\n",
       "      <td>2.594200</td>\n",
       "    </tr>\n",
       "    <tr>\n",
       "      <td>800</td>\n",
       "      <td>2.547700</td>\n",
       "    </tr>\n",
       "    <tr>\n",
       "      <td>900</td>\n",
       "      <td>2.543400</td>\n",
       "    </tr>\n",
       "  </tbody>\n",
       "</table><p>"
      ],
      "text/plain": [
       "<IPython.core.display.HTML object>"
      ]
     },
     "metadata": {},
     "output_type": "display_data"
    },
    {
     "data": {
      "text/plain": [
       "TrainOutput(global_step=930, training_loss=2.8642012729439683, metrics={'train_runtime': 1833.1021, 'train_samples_per_second': 16.251, 'train_steps_per_second': 0.507, 'total_flos': 3.23771362443264e+16, 'train_loss': 2.8642012729439683, 'epoch': 2.996375352396295})"
      ]
     },
     "execution_count": 22,
     "metadata": {},
     "output_type": "execute_result"
    }
   ],
   "source": [
    "training_args = TrainingArguments(\n",
    "    output_dir=\"./model_output\",\n",
    "    overwrite_output_dir=True,\n",
    "    num_train_epochs=3,\n",
    "    per_device_train_batch_size=4,\n",
    "    gradient_accumulation_steps=8,\n",
    "    save_steps=500,\n",
    "    save_total_limit=2,\n",
    "    logging_dir=\"./logs\",\n",
    "    logging_steps=100,\n",
    "    learning_rate=5e-5,\n",
    "    weight_decay=0.01,\n",
    "    warmup_steps=500,\n",
    "    fp16=True,\n",
    "    prediction_loss_only=True\n",
    ")\n",
    "\n",
    "trainer = Trainer(\n",
    "    model=model,\n",
    "    args=training_args,\n",
    "    train_dataset=train_dataset,\n",
    "    data_collator=data_collator\n",
    ")\n",
    "\n",
    "trainer.train()"
   ]
  },
  {
   "cell_type": "code",
   "execution_count": null,
   "metadata": {},
   "outputs": [],
   "source": [
    "trainer.save_model(\"./fine_tuned_rugpt2\")\n",
    "tokenizer.save_pretrained(\"./fine_tuned_rugpt2\")"
   ]
  },
  {
   "cell_type": "code",
   "execution_count": 5,
   "metadata": {},
   "outputs": [],
   "source": [
    "fine_tuned_model = GPT2LMHeadModel.from_pretrained(\"./fine_tuned_rugpt2\")\n",
    "\n",
    "fine_tuned_tokenizer = GPT2Tokenizer.from_pretrained(\"./fine_tuned_rugpt2\")"
   ]
  },
  {
   "cell_type": "code",
   "execution_count": 7,
   "metadata": {},
   "outputs": [
    {
     "name": "stderr",
     "output_type": "stream",
     "text": [
      "Truncation was not explicitly activated but `max_length` is provided a specific value, please use `truncation=True` to explicitly truncate examples to max length. Defaulting to 'longest_first' truncation strategy. If you encode pairs of sequences (GLUE-style) with the tokenizer you can select this strategy more precisely by providing a specific strategy to `truncation`.\n"
     ]
    },
    {
     "name": "stdout",
     "output_type": "stream",
     "text": [
      "\n",
      "Sample 1:\n",
      "<|startoftext|>- Что-то в последнее время мне вообще никто не нравится. Даже кот.- Может, тебе просто никто не нужен.\n",
      "- Я хочу завести собаку.- А почему не кошку?- Кошки постоянно ходят.\n",
      "- Если ты все время будешь ходить вокруг, вечно оглядываясь, люди подумают, что ты труслива.\n",
      "Коротко о себе: мне 25 лет, я худенькая, стройненькая, с маленькой грудью и огромными глазами. У меня очень длинные и густые ресницы. А когда они падают на глаза, я просто ничего не могу с этим поделать.\n",
      "- А почему ты сегодня в школу не пришла?- Папа, я уже большая девочка. Сама решу, когда и где мне быть...\n",
      "Все девушки одинаковые. Просто у некоторых есть грудь, а у некоторых - мозг.\n",
      "- Дорогая, как ты думаешь, если я заведу любовника, он будет называть меня своей принцессой?- Конечно!- Тогда я хочу завести\n",
      "\n",
      "########################################################################################################################\n",
      "\n",
      "Sample 2:\n",
      "<|startoftext|>А почему только в России можно купить кота в мешке?\n",
      "\"Что-то вы сегодня очень поздно пришли\". - говорит продавец коту.- Извините, задумался.\n",
      "Обычные люди на улице улыбаются. А я не могу. Потому что не люблю людей, которые мне улыбаются.\n",
      "Прочитал в новостях, что для увеличения срока эксплуатации компьютеров на фабриках Microsoft уже начали выпускать новые версии Windows XP. Интересно, а какой пароль в них теперь нужно вводить?\n",
      "Раньше, чтобы понять, кто прав, нужно было найти правду, а теперь нужно найти, где ложь.\n",
      "- Ты видел эту передачу? А я не видел!- Да, теперь они ваще ничего не показывают.\n",
      "В России все решают не рейтинги, а рейтинги воровства.\n",
      "РПЦ объявила о прекращении членства в партии \"Единая Россия\" и заявила, что все бывшие в нее вступили по ошибке.\n",
      "\n",
      "\n",
      "########################################################################################################################\n",
      "\n",
      "Sample 3:\n",
      "<|startoftext|>В детстве мама рассказывала страшные сказки. Но я не плакал, а только тихонько плакал. Потому что в них все было правдой.\n",
      "Не спеши радоваться - впереди еще долгий-долгий год.\n",
      "- Ну что, я снова буду пить водку? С утра?- Да, завтра.- А послезавтра?\n",
      "На самом деле, это очень просто - просто взять и бросить курить...\n",
      "Жена попросила в кредит стиральную машину, а через месяц кредит не вернешь.\n",
      "Не понимаю, почему ты думаешь, что я такая сука, да еще на ровном месте.\n",
      "У меня все хорошо, меня любят, лечат, кормят, у меня есть все, что только нужно, а в душе - вечный холод.\n",
      "Характер у меня, конечно, скверный, но это потому что у меня никогда не было денег на хорошие лекарства!\n",
      "В магазине \"Оку\" я увидела два слова на упаковке\n",
      "\n",
      "########################################################################################################################\n",
      "\n",
      "Sample 4:\n",
      "<|startoftext|>Мюллер - Мюллеру:- Мой Штирлиц, вы уже неделю не пьете! Вы что, опять не можете найти вторую работу?\n",
      "- Доктор, мне опять плохо.- Что случилось?- Я люблю одного и того же мужчину, а он любит только двух женщин.Доктор:- А вы пробовали встречаться с двумя женщинами?\n",
      "С годами понимаешь, что в детстве тебе купили плюшевого мишку за 100 рублей, потому что ты все время его таскал с собой, а теперь он стоит больше чем твои новые ботинки, да еще и за твой счет.\n",
      "- А где вы работаете?- Я директор фирмы.- Какой?- \"Поля Чудес\"!\n",
      "- Алло, Люся, тут ко мне в дверь ломятся какие-то люди, давай собирайся, приезжай быстрей, они меня убить хотят!- Боря, а почему ты решил, что они тебя хотят?- Ну, по-другому они бы в дверь не звонили!\n",
      "- Почему\n",
      "\n",
      "########################################################################################################################\n",
      "\n",
      "Sample 5:\n",
      "<|startoftext|>И так у нас с вами получилось.\n",
      "- Ну и чего ты добился?- Пока ничего, но ты еще не представляешь, как это будет интересно, когда я достигну того уровня развития, о котором мечтаю...\n",
      "Приходит девушка к психологу:- Доктор, что мне делать: у меня в постели мужчина!- А что он делает?- Спит. Ну а мне-то что делать?\n",
      "Если бы я была богом, то за каждой из своих ошибок в прошлой жизни я бы платила деньгами.\n",
      "- С чего ты взял, что она не такая уж плохая?- Ну, не могу же я в самом деле сказать, что она такая хорошая, если она не соглашается.\n",
      "Мужик спрашивает жену:- Дорогая, ты почему в шкафу так долго висишь?\n",
      "- Изя, я таки решил жениться на Вере.- На этой дуре, которую ты знаешь три года?- Да нет, на той, которую ты\n",
      "\n",
      "########################################################################################################################\n"
     ]
    }
   ],
   "source": [
    "generator = pipeline(\"text-generation\", model=fine_tuned_model, tokenizer=fine_tuned_tokenizer, device=0)\n",
    "\n",
    "num_samples = 5\n",
    "\n",
    "result = generator(\n",
    "    \"<|startoftext|>\",\n",
    "    max_length=200,\n",
    "    num_return_sequences=5,\n",
    "    do_sample=True,\n",
    "    temperature=1.0,\n",
    "    top_k=50,\n",
    "    top_p=0.9,\n",
    "    use_cache=True\n",
    ")\n",
    "\n",
    "for i, sample in enumerate(result):\n",
    "    print(f\"\\nSample {i + 1}:\\n{sample['generated_text']}\\n\")\n",
    "    print('#' * 120)"
   ]
  }
 ],
 "metadata": {
  "kernelspec": {
   "display_name": "nlp",
   "language": "python",
   "name": "python3"
  },
  "language_info": {
   "codemirror_mode": {
    "name": "ipython",
    "version": 3
   },
   "file_extension": ".py",
   "mimetype": "text/x-python",
   "name": "python",
   "nbconvert_exporter": "python",
   "pygments_lexer": "ipython3",
   "version": "3.12.8"
  }
 },
 "nbformat": 4,
 "nbformat_minor": 2
}
